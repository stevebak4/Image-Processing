{
  "nbformat": 4,
  "nbformat_minor": 0,
  "metadata": {
    "colab": {
      "name": "final.ipynb",
      "provenance": [],
      "collapsed_sections": []
    },
    "kernelspec": {
      "name": "python3",
      "display_name": "Python 3"
    },
    "language_info": {
      "name": "python"
    }
  },
  "cells": [
    {
      "cell_type": "markdown",
      "metadata": {
        "id": "YXMOyWhhlFJs"
      },
      "source": [
        "In order to run this programm you need to run each cell from top to bottom and follow the instructions above each cell.You need to have a google drive account where you should have:\n",
        " 1.The content image\n",
        " 2.the style image\n",
        " 3.an eampty folder to print the results\n",
        "\n",
        "\n",
        "\n",
        "Run the first cell in order to mount your google drive."
      ]
    },
    {
      "cell_type": "code",
      "metadata": {
        "colab": {
          "base_uri": "https://localhost:8080/"
        },
        "id": "BhYXencojl0v",
        "outputId": "b779e432-3091-4722-e0b2-d70e403dd5b2"
      },
      "source": [
        "\n",
        "import PIL.Image\n",
        "from keras.preprocessing.image import load_img, img_to_array\n",
        "import numpy as np\n",
        "from scipy.optimize import fmin_l_bfgs_b\n",
        "from keras.applications import vgg19\n",
        "from keras import backend as K\n",
        "from keras.preprocessing.image import save_img\n",
        "from PIL import Image\n",
        "import argparse\n",
        "import tensorflow as tf\n",
        "import tensorflow_probability as tfp\n",
        "import skimage\n",
        "\n",
        "tf.compat.v1.disable_eager_execution()\n",
        "\n",
        "\n",
        "\n",
        "\n",
        "from google.colab import drive\n",
        "drive.mount(\"/content/drive\")\n",
        "\n"
      ],
      "execution_count": 1,
      "outputs": [
        {
          "output_type": "stream",
          "text": [
            "Mounted at /content/drive\n"
          ],
          "name": "stdout"
        }
      ]
    },
    {
      "cell_type": "markdown",
      "metadata": {
        "id": "RKcWWecYlqp7"
      },
      "source": [
        "Put the path of each image and of the output folder in each of the three variables."
      ]
    },
    {
      "cell_type": "code",
      "metadata": {
        "id": "wNauKxySkVpk"
      },
      "source": [
        "file_content_image = '/content/drive/MyDrive/Colab Notebooks/image_processing/thames_river.jpg' \n",
        "file_style_image = '/content/drive/MyDrive/Colab Notebooks/image_processing/starry_night.jpg'   \n",
        "path_output = '/content/drive/MyDrive/Colab Notebooks/image_processing/weighted_3'  # directory to write checkpoint images into"
      ],
      "execution_count": 2,
      "outputs": []
    },
    {
      "cell_type": "markdown",
      "metadata": {
        "id": "Y1wVTChul0cG"
      },
      "source": [
        "Just run this cell."
      ]
    },
    {
      "cell_type": "code",
      "metadata": {
        "id": "5D3cu86j2VJ8"
      },
      "source": [
        "\n",
        "\n",
        "\n",
        "\n",
        "# Preprocessing image to make it compatible with the VGG19 model\n",
        "def preprocess_image(image_path, resized_width, resized_height):\n",
        "    img = load_img(image_path, target_size=(resized_width, resized_height))\n",
        "    \n",
        "    img = img_to_array(img)\n",
        "    \n",
        "    img = np.expand_dims(img, axis=0)\n",
        "    img = vgg19.preprocess_input(img)\n",
        "    return img\n",
        "\n",
        "\n",
        "# Function to convert a tensor into an image\n",
        "def deprocess_image(x, resized_width, resized_height):\n",
        "    x = x.reshape((resized_width, resized_height, 3))\n",
        "\n",
        "    # Remove zero-center by mean pixel. Necessary when working with VGG model\n",
        "    x[:, :, 0] += 103.939\n",
        "    x[:, :, 1] += 116.779\n",
        "    x[:, :, 2] += 123.68\n",
        "\n",
        "    # Format BGR->RGB\n",
        "    x = x[:, :, ::-1]\n",
        "    x = np.clip(x, 0, 255).astype('uint8')\n",
        "    return x\n",
        "\n",
        "\n",
        "# The gram matrix of an image tensor is the inner product between the vectorized feature map in a layer.\n",
        "# It is used to compute the style loss, minimizing the mean squared distance between the feature correlation map of the style image\n",
        "# and the input image\n",
        "def gram_matrix(x):\n",
        "    features = K.batch_flatten(K.permute_dimensions(x, (2, 0, 1)))\n",
        "    gram = K.dot(features, K.transpose(features))\n",
        "    return gram\n",
        "\n",
        "\n",
        "# The style_loss_per_layer represents the loss between the style of the style reference image and the generated image.\n",
        "# It depends on the gram matrices of feature maps from the style reference image and from the generated image.\n",
        "def style_loss_per_layer(style, combination, resized_width, resized_height):\n",
        "    S = gram_matrix(style)\n",
        "    C = gram_matrix(combination)\n",
        "    channels = 3\n",
        "    size = resized_width * resized_height\n",
        "    return K.sum(K.square(S - C)) / (4. * (channels ** 2) * (size ** 2))\n",
        "\n",
        "\n",
        "# The total_style_loss represents the total loss between the style of the style reference image and the generated image,\n",
        "# taking into account all the layers considered for the style transfer, related to the style reference image.\n",
        "def total_style_loss(feature_layers, outputs_dict, resized_width, resized_height, style_weight):\n",
        "    loss = K.variable(0.)\n",
        "    for layer_name in feature_layers:\n",
        "        layer_features = outputs_dict[layer_name]\n",
        "        style_reference_features = layer_features[1, :, :, :]\n",
        "        combination_features = layer_features[2, :, :, :]\n",
        "        sl = style_loss_per_layer(style_reference_features, combination_features, resized_width, resized_height)\n",
        "        loss = loss + (style_weight / len(feature_layers)) * sl\n",
        "    return loss\n",
        "\n",
        "\n",
        "# The content loss maintains the features of the content image in the generated image.\n",
        "def content_loss(layer_features):\n",
        "    base_image_features = layer_features[0, :, :, :]\n",
        "    combination_features = layer_features[2, :, :, :]\n",
        "    return K.sum(K.square(combination_features - base_image_features))\n",
        "\n",
        "\n",
        "# The total variation loss mantains the generated image loclaly coherent,\n",
        "# smoothing the pixel variations among neighbour pixels.\n",
        "def total_variation_loss(x, resized_width, resized_height):\n",
        "    a = K.square(x[:, :resized_width - 1, :resized_height - 1, :] - x[:, 1:, :resized_height - 1, :])\n",
        "    b = K.square(x[:, :resized_width - 1, :resized_height - 1, :] - x[:, :resized_width - 1, 1:, :])\n",
        "    return K.sum(K.pow(a + b, 1.25))\n",
        "\n",
        "\n",
        "def total_loss(outputs_dict, content_weight, resized_width, resized_height, style_weight, total_variation_weight, combination_image):\n",
        "    loss = K.variable(0.)\n",
        "\n",
        "    # contribution of content_loss\n",
        "    feature_layers_content = outputs_dict['block5_conv2']\n",
        "    loss = loss + content_weight * content_loss(feature_layers_content)\n",
        "\n",
        "    # contribution of style_loss\n",
        "    feature_layers_style = ['block1_conv1','block1_conv2','block2_conv1','block2_conv2',\n",
        "                            'block3_conv1','block3_conv2','block3_conv3',\n",
        "                            'block4_conv1','block4_conv2','block4_conv3',\n",
        "                            'block5_conv1']\n",
        "    loss += total_style_loss(feature_layers_style, outputs_dict, resized_width, resized_height, style_weight) * style_weight\n",
        "\n",
        "    # contribution of variation_loss\n",
        "    loss += total_variation_weight * total_variation_loss(combination_image, resized_width, resized_height)\n",
        "    return loss\n",
        "\n",
        "\n",
        "# Evaluate the loss and the gradients respect to the generated image. It is called in the Evaluator, necessary to\n",
        "# compute the gradients and the loss as two different functions (limitation of the L-BFGS algorithm) without\n",
        "# excessive losses in performance\n",
        "def eval_loss_and_grads(x, resized_width, resized_height, f_outputs):\n",
        "    x = x.reshape((1, resized_width, resized_height, 3))\n",
        "    outs = f_outputs([x])\n",
        "    loss_value = outs[0]\n",
        "    if len(outs[1:]) == 1:\n",
        "        grad_values = outs[1].flatten().astype('float64')\n",
        "    else:\n",
        "        grad_values = np.array(outs[1:]).flatten().astype('float64')\n",
        "    return loss_value, grad_values\n",
        "\n",
        "\n",
        "# Save generated pictures\n",
        "def save(filename, generated):\n",
        "    save_img(filename, Image.fromarray(generated))\n",
        "\n",
        "\n",
        "# Evaluator returns the loss and the gradient in two separate functions, but the calculation of the two variables\n",
        "# are dependent. This reduces the computation time, since otherwise it would be calculated separately.\n",
        "class Evaluator(object):\n",
        "    def __init__(self, resized_width, resized_height, f_outputs):\n",
        "        self.loss_value = None\n",
        "        self.grads_values = None\n",
        "        self.resized_width = resized_width\n",
        "        self.resized_height = resized_height\n",
        "        self.f_outputs = f_outputs\n",
        "        \n",
        "    def loss(self, x):\n",
        "        assert self.loss_value is None\n",
        "        loss_value, grad_values = eval_loss_and_grads(x, self.resized_width, self.resized_height, self.f_outputs)\n",
        "        self.loss_value = loss_value\n",
        "        self.grad_values = grad_values\n",
        "        return self.loss_value\n",
        "\n",
        "    def grads(self, x):\n",
        "        assert self.loss_value is not None\n",
        "        grad_values = np.copy(self.grad_values)\n",
        "        self.loss_value = None\n",
        "        self.grad_values = None\n",
        "        return grad_values\n",
        "\n",
        "\n",
        "def run(base_image,style_image,iterations,path):\n",
        "    # Variables declaration\n",
        "    base_image_path = f\"{base_image}\"\n",
        "    style_reference_image_path = f\"{style_image}\"\n",
        "    iterations = iterations\n",
        "    \n",
        "    # Weights to compute the final loss\n",
        "    total_variation_weight = 1\n",
        "    style_weight = 8\n",
        "    content_weight = 2\n",
        "    \n",
        "    # Dimensions of the generated picture.\n",
        "    width, height = load_img(base_image_path).size\n",
        "    resized_width = 400\n",
        "    resized_height = int(width * resized_width / height)\n",
        "    \n",
        "    # Get tensor representations of our images\n",
        "    base_image = K.variable(preprocess_image(base_image_path, resized_width, resized_height))\n",
        "    style_reference_image = K.variable(preprocess_image(style_reference_image_path, resized_width, resized_height))\n",
        "    \n",
        "    # Placeholder for generated image\n",
        "    combination_image = K.placeholder((1, resized_width, resized_height, 3))\n",
        "    \n",
        "    # Combine the 3 images into a single Keras tensor\n",
        "    input_tensor = K.concatenate([base_image,\n",
        "                                  style_reference_image,\n",
        "                                  combination_image], axis=0)\n",
        "    \n",
        "    # Build the VGG19 network with our 3 images as input\n",
        "    # the model is loaded with pre-trained ImageNet weights\n",
        "    model = vgg19.VGG19(input_tensor=input_tensor,\n",
        "                        weights='imagenet', include_top=False)\n",
        "    \n",
        "    # Get the outputs of each key layer, through unique names.\n",
        "    outputs_dict = dict([(layer.name, layer.output) for layer in model.layers])\n",
        "    loss = total_loss(outputs_dict, content_weight, resized_width, resized_height, style_weight, total_variation_weight, combination_image)\n",
        "    \n",
        "    # Get the gradients of the generated image\n",
        "    grads = K.gradients(loss, combination_image)\n",
        "    outputs = [loss]\n",
        "    outputs += grads\n",
        "    \n",
        "    f_outputs = K.function([combination_image], outputs)\n",
        "    \n",
        "    evaluator = Evaluator(resized_width, resized_height, f_outputs)\n",
        "\n",
        "    x = preprocess_image(base_image_path, resized_width, resized_height)\n",
        "    \n",
        "   \n",
        "    # The oprimizer is fmin_l_bfgs\n",
        "    for i in range(iterations):\n",
        "        print('Iteration: ', i)\n",
        "        x, min_val, info = fmin_l_bfgs_b(evaluator.loss,\n",
        "                                         x.flatten(),\n",
        "                                         fprime=evaluator.grads,\n",
        "                                         maxfun=25)\n",
        "    \n",
        "        print('Current loss value:', min_val)\n",
        "    \n",
        "        # Save current generated image\n",
        "        img = deprocess_image(x.copy(), resized_width, resized_height)\n",
        "        fname = path + '/' + np.str(i) + '.png'\n",
        "        save(fname, img)\n",
        "\n",
        "\n",
        "    \n",
        "#if __name__ == '__main__':\n",
        "  # Set options to activate or deactivate the game view, and its speed\n",
        "\n",
        "\n",
        "#parser = argparse.ArgumentParser()\n",
        "#parser.add_argument(file_content_image, type=str, default=\"jumping_me.jpg\")\n",
        "#parser.add_argument(file_style_image, type=str, default=\"starry_night.jpg\")\n",
        "#parser.add_argument(20, type=int, default=20)\n",
        "#args = parser.parse_args()\n",
        "#run(args)"
      ],
      "execution_count": 3,
      "outputs": []
    },
    {
      "cell_type": "markdown",
      "metadata": {
        "id": "7L_-1Y-9l4nK"
      },
      "source": [
        "Finally run the function that will stop after 30 iterations.It can take some hours until it is completed..."
      ]
    },
    {
      "cell_type": "code",
      "metadata": {
        "colab": {
          "base_uri": "https://localhost:8080/"
        },
        "id": "mDTtPfwokcRP",
        "outputId": "0d79313b-3d5c-411d-bbf0-374c8c14d558"
      },
      "source": [
        "run(file_content_image,file_style_image,30,path_output)\n"
      ],
      "execution_count": null,
      "outputs": [
        {
          "output_type": "stream",
          "text": [
            "Downloading data from https://storage.googleapis.com/tensorflow/keras-applications/vgg19/vgg19_weights_tf_dim_ordering_tf_kernels_notop.h5\n",
            "80142336/80134624 [==============================] - 1s 0us/step\n",
            "80150528/80134624 [==============================] - 1s 0us/step\n",
            "Iteration:  0\n"
          ],
          "name": "stdout"
        }
      ]
    }
  ]
}